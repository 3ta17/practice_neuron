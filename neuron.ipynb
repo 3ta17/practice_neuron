{
 "cells": [
  {
   "cell_type": "code",
   "execution_count": 1,
   "id": "eaed159a-3cb5-4b73-b5c9-1481e19d6c00",
   "metadata": {},
   "outputs": [],
   "source": [
    "import numpy as np\n",
    "import matplotlib.pyplot as plt\n",
    "from sklearn import datasets\n",
    "\n",
    "iris = datasets.load_iris()\n",
    "iris_data = iris.data\n",
    "sl_data = iris_data[:100, 0].copy() \n",
    "sw_data = iris_data[:100, 1].copy()\n"
   ]
  },
  {
   "cell_type": "code",
   "execution_count": 5,
   "id": "4e9dfed1-084d-4a17-8402-840a0c9f8bff",
   "metadata": {},
   "outputs": [],
   "source": [
    "# average value to 0\n",
    "sl_ave = np.average(sl_data)  # average value\n",
    "sl_data -= sl_ave  # minus average value\n",
    "sw_ave = np.average(sw_data)\n",
    "sw_data -= sw_ave\n",
    "\n",
    "# Stores input in a list.\n",
    "input_data = []\n",
    "for i in range(100):  # 0-99 in i\n",
    "    input_data.append([sl_data[i], sw_data[i]])"
   ]
  },
  {
   "cell_type": "code",
   "execution_count": 11,
   "id": "7549369c-5bb5-4274-b57c-79f4da037f77",
   "metadata": {},
   "outputs": [],
   "source": [
    "def sigmoid(x):\n",
    "    return 1.0 / (1.0 + np.exp(-x))\n",
    "\n",
    "# neuron\n",
    "class Neuron:\n",
    "    def __init__(self):  # first setting\n",
    "        self.input_sum = 0.0\n",
    "        self.output = 0.0\n",
    "\n",
    "    def set_input(self, inp):\n",
    "        self.input_sum += inp\n",
    "\n",
    "    def get_output(self):\n",
    "        self.output = sigmoid(self.input_sum)\n",
    "        return self.output\n",
    "\n",
    "    def reset(self):\n",
    "        self.input_sum = 0\n",
    "        self.output = 0\n"
   ]
  },
  {
   "cell_type": "code",
   "execution_count": 23,
   "id": "37430640-b930-475f-92e2-ec303af771cb",
   "metadata": {},
   "outputs": [],
   "source": [
    "# neural network\n",
    "class NeuralNetwork:\n",
    "    def __init__(self):  # first setting \n",
    "        # Weight (not to be changed)\n",
    "        self.w_im = [[4.0, 4.0], [4.0, 4.0], [4.0, 4.0]] \n",
    "        self.w_mo = [[1.0, -1.0, 1.0]]  \n",
    "\n",
    "        # Bias (not changed).\n",
    "        self.b_m = [3.0, 0.0, -3.0] \n",
    "        self.b_o = [-0.5] \n",
    "\n",
    "        # Declaration of each layer\n",
    "        self.input_layer = [0.0, 0.0]\n",
    "        self.middle_layer = [Neuron(), Neuron(), Neuron()]\n",
    "        self.output_layer = [Neuron()]\n",
    "\n",
    "    def commit(self, input_data):\n",
    "        # Reset of each layer\n",
    "        self.input_layer[0] = input_data[0]  #  Input layer only accepts values\n",
    "        self.input_layer[1] = input_data[1]\n",
    "        self.middle_layer[0].reset()\n",
    "        self.middle_layer[1].reset()\n",
    "        self.middle_layer[2].reset()\n",
    "        self.output_layer[0].reset()\n",
    "\n",
    "        # Input layer → Intermediate layer\n",
    "        self.middle_layer[0].set_input(self.input_layer[0] * self.w_im[0][0])\n",
    "        self.middle_layer[0].set_input(self.input_layer[1] * self.w_im[0][1])\n",
    "        self.middle_layer[0].set_input(self.b_m[0])\n",
    "\n",
    "        self.middle_layer[1].set_input(self.input_layer[0] * self.w_im[1][0])\n",
    "        self.middle_layer[1].set_input(self.input_layer[1] * self.w_im[1][1])\n",
    "        self.middle_layer[1].set_input(self.b_m[1])\n",
    "\n",
    "        self.middle_layer[2].set_input(self.input_layer[0] * self.w_im[2][0])\n",
    "        self.middle_layer[2].set_input(self.input_layer[1] * self.w_im[2][1])\n",
    "        self.middle_layer[2].set_input(self.b_m[2])\n",
    "\n",
    "        # Intermediate layer → Output layer\n",
    "        self.output_layer[0].set_input(self.middle_layer[0].get_output() * self.w_mo[0][0])\n",
    "        self.output_layer[0].set_input(self.middle_layer[1].get_output() * self.w_mo[0][1])\n",
    "        self.output_layer[0].set_input(self.middle_layer[2].get_output() * self.w_mo[0][2])\n",
    "        self.output_layer[0].set_input(self.b_o[0])\n",
    "\n",
    "        return self.output_layer[0].get_output()\n"
   ]
  },
  {
   "cell_type": "code",
   "execution_count": 29,
   "id": "7b42d7d3-98bd-42ff-b4bb-53ac5a0b33dc",
   "metadata": {},
   "outputs": [],
   "source": [
    "# Instances of neural networks\n",
    "neural_network = NeuralNetwork()\n",
    "\n",
    "# result\n",
    "st_predicted = [[], []]  # Setosa\n",
    "vc_predicted = [[], []]  # Versicolor\n",
    "for data in input_data:\n",
    "    if neural_network.commit(data) < 0.5:\n",
    "        st_predicted[0].append(data[0]+sl_ave)\n",
    "        st_predicted[1].append(data[1]+sw_ave)\n",
    "    else:\n",
    "        vc_predicted[0].append(data[0]+sl_ave)\n",
    "        vc_predicted[1].append(data[1]+sw_ave)\n"
   ]
  },
  {
   "cell_type": "code",
   "execution_count": 31,
   "id": "2ccb14f1-b643-4d52-9b3d-c3ffbe6dacd9",
   "metadata": {},
   "outputs": [
    {
     "data": {
      "image/png": "[encoded data removed]",
      "text/plain": [
       "<Figure size 640x480 with 1 Axes>"
      ]
     },
     "metadata": {},
     "output_type": "display_data"
    }
   ],
   "source": [
    "plt.scatter(st_predicted[0], st_predicted[1], label=\"Setosa\")\n",
    "plt.scatter(vc_predicted[0], vc_predicted[1], label=\"Versicolor\")\n",
    "plt.legend()\n",
    "\n",
    "plt.xlabel(\"Sepal length (cm)\")\n",
    "plt.ylabel(\"Sepal width (cm)\")\n",
    "plt.title(\"Predicted\")\n",
    "plt.show()"
   ]
  },
  {
   "cell_type": "code",
   "execution_count": null,
   "id": "70b0a7e3-ac71-4aa0-8ddd-2a6f226115cd",
   "metadata": {},
   "outputs": [],
   "source": []
  }
 ],
 "metadata": {
  "kernelspec": {
   "display_name": "anaconda-ai-2024.04-py310",
   "language": "python",
   "name": "conda-env-anaconda-ai-2024.04-py310-py"
  },
  "language_info": {
   "codemirror_mode": {
    "name": "ipython",
    "version": 3
   },
   "file_extension": ".py",
   "mimetype": "text/x-python",
   "name": "python",
   "nbconvert_exporter": "python",
   "pygments_lexer": "ipython3",
   "version": "3.10.13"
  }
 },
 "nbformat": 4,
 "nbformat_minor": 5
}
